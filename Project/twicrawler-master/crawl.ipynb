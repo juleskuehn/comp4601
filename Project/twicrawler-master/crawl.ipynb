{
 "cells": [
  {
   "cell_type": "code",
   "execution_count": 1,
   "metadata": {
    "collapsed": true
   },
   "outputs": [],
   "source": [
    "import tweepy\n",
    "import pickle\n",
    "\n",
    "import config\n",
    "import twicrawler"
   ]
  },
  {
   "cell_type": "code",
   "execution_count": 2,
   "metadata": {
    "collapsed": true
   },
   "outputs": [],
   "source": [
    "auth = tweepy.OAuthHandler(config.consumer_key, config.consumer_secret)\n",
    "auth.set_access_token(config.access_token_key, config.access_token_secret)\n",
    "api = tweepy.API(auth)"
   ]
  },
  {
   "cell_type": "code",
   "execution_count": 3,
   "metadata": {
    "collapsed": true
   },
   "outputs": [],
   "source": [
    "# You can control the area to crawl very roughly by editing the seed.\n",
    "screen_names = ['shimizukawa', 'takanory', 'terapyon', 'koedoyoshida', 'aodag']\n",
    "# screen_names = ['ylecun', 'fchollet', 'goodfellow_ian', 'demishassabis', 'hardmaru']\n",
    "seed = [user.id for user in api.lookup_users(screen_names=screen_names)]\n",
    "crawler = twicrawler.Crawler(seed=seed)"
   ]
  },
  {
   "cell_type": "code",
   "execution_count": null,
   "metadata": {},
   "outputs": [],
   "source": [
    "# Do not run if this is the first time.\n",
    "with open('data/crawler.bin', 'rb') as fp:\n",
    "    crawler = pickle.loads(fp.read())\n",
    "\n",
    "print('#{nodes}: %d' % crawler.graph.number_of_nodes())\n",
    "print('#{edges}: %d' % crawler.graph.number_of_edges())\n",
    "print('visited: %d' % len(crawler.visited))"
   ]
  },
  {
   "cell_type": "code",
   "execution_count": 4,
   "metadata": {
    "scrolled": false
   },
   "outputs": [
    {
     "name": "stdout",
     "output_type": "stream",
     "text": [
      "user_id: 1737661, screen_name: terapyon\n",
      "user_id: 4982241, screen_name: takanory\n",
      "user_id: 57373656, screen_name: shimizukawa\n",
      "user_id: 2380931, screen_name: aodag\n",
      "user_id: 14089110, screen_name: koedoyoshida\n",
      "user_id: 14382115, screen_name: esuji\n",
      "user_id: 91879472, screen_name: ojiidotch\n",
      "user_id: 143281540, screen_name: natsu_bm\n",
      "user_id: 176063803, screen_name: usaturn\n",
      "user_id: 15461191, screen_name: kahei\n",
      "user_id: 13347692, screen_name: t2y\n",
      "user_id: 103286566, screen_name: iktakahiro\n",
      "user_id: 109726643, screen_name: tk0miya\n",
      "user_id: 3506241, screen_name: turky\n",
      "user_id: 3969281, screen_name: kakutani\n",
      "visited: 15\n"
     ]
    }
   ],
   "source": [
    "crawler.crawl(api=api, update_interval=5, max_itr=15)\n",
    "print('visited: %d' % len(crawler.visited))"
   ]
  },
  {
   "cell_type": "code",
   "execution_count": 5,
   "metadata": {
    "collapsed": true
   },
   "outputs": [],
   "source": [
    "with open('data/crawler_py.bin', 'wb') as fp:\n",
    "    fp.write(pickle.dumps(crawler))"
   ]
  },
  {
   "cell_type": "code",
   "execution_count": null,
   "metadata": {},
   "outputs": [],
   "source": []
  },
  {
   "cell_type": "code",
   "execution_count": null,
   "metadata": {
    "collapsed": true
   },
   "outputs": [],
   "source": []
  }
 ],
 "metadata": {
  "kernelspec": {
   "display_name": "py36",
   "language": "python",
   "name": "py36"
  },
  "language_info": {
   "codemirror_mode": {
    "name": "ipython",
    "version": 3
   },
   "file_extension": ".py",
   "mimetype": "text/x-python",
   "name": "python",
   "nbconvert_exporter": "python",
   "pygments_lexer": "ipython3",
   "version": "3.6.1"
  }
 },
 "nbformat": 4,
 "nbformat_minor": 1
}
